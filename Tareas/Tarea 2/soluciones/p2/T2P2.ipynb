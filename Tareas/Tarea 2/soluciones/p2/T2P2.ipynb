{
 "cells": [
  {
   "cell_type": "markdown",
   "id": "d0397a62-47ac-4159-b403-d12ac141849d",
   "metadata": {},
   "source": [
    "# Solución tarea 2 pregunta 2"
   ]
  },
  {
   "cell_type": "markdown",
   "id": "9d9590d6-9ec6-4f5e-b1d2-b0776446851e",
   "metadata": {},
   "source": [
    "# Funciones auxiliares\n",
    "Antes de escribir nuestra clase necesitamos el test de primalidad y el algoritmo extendido de euclides.\n",
    "Para el test de primalidad primero necesitamos revisar si un número es potencia de otro."
   ]
  },
  {
   "cell_type": "code",
   "execution_count": 1,
   "id": "87aaa8dd-1e50-4a28-88a2-950b7c4d7227",
   "metadata": {},
   "outputs": [],
   "source": [
    "def es_potencia(n):\n",
    "    # Para cada posible exponente, hacemos búsqueda binaria de la base\n",
    "    search_exponent = 2\n",
    "    \n",
    "    # Optimiazación: si n no es a ^ k no puede ser a ^ (kr) para ningún\n",
    "    # r, por lo que sólo probamos con exponentes primos\n",
    "    avoid_exponents = set()\n",
    "    \n",
    "    while pow(2, search_exponent) <= n:\n",
    "        \n",
    "        if search_exponent not in avoid_exponents:\n",
    "            # Usamos búsqueda binaria \"creciente\" para definir el intervalo\n",
    "            # inicial\n",
    "            search_start = 2\n",
    "            i = 2\n",
    "            while search_start ** search_exponent < n:\n",
    "                search_start *= 2\n",
    "                avoid_exponents.add(search_exponent * i)\n",
    "                i += 1\n",
    "                \n",
    "            upper = search_start\n",
    "            lower = search_start // 2\n",
    "\n",
    "            # Búsqueda binaria\n",
    "            while lower != upper:\n",
    "                mid = (upper + lower) // 2\n",
    "                result = pow(mid, search_exponent)\n",
    "                if result < n:\n",
    "                    lower = mid + 1\n",
    "                elif result > n:\n",
    "                    upper = mid\n",
    "                else:\n",
    "                    return True\n",
    "\n",
    "            # Caso borde en que upper ^ search_exponent era justo n\n",
    "            if pow(upper, search_exponent) == n:\n",
    "                return True\n",
    "            \n",
    "        search_exponent += 1\n",
    "    \n",
    "    return False"
   ]
  },
  {
   "cell_type": "markdown",
   "id": "2e71b0fc-fc9b-476c-8e92-5eb6980e9e36",
   "metadata": {},
   "source": [
    "Probemos algunos casos"
   ]
  },
  {
   "cell_type": "code",
   "execution_count": 2,
   "id": "5cc098a7-20c1-4a99-8e04-66588ed5956c",
   "metadata": {},
   "outputs": [],
   "source": [
    "assert not es_potencia(8 ** 30 + 7)\n",
    "assert es_potencia(3 ** 15)\n",
    "assert es_potencia(12 ** 10)\n",
    "assert not es_potencia(7 ** 10 + 1)\n",
    "assert es_potencia(5 ** 3)"
   ]
  },
  {
   "cell_type": "markdown",
   "id": "9d4dd532-64a4-4315-a632-47d016266e9b",
   "metadata": {},
   "source": [
    "Parece portarse bien, definamos ahora el algoritmo extendido de euclides."
   ]
  },
  {
   "cell_type": "code",
   "execution_count": 3,
   "id": "f8c3290e-0033-460f-8894-3d988a9d7b27",
   "metadata": {},
   "outputs": [],
   "source": [
    "def _extended_euclid(a, b):\n",
    "    if a > b:\n",
    "        return _extended_euclid_base(a, b)\n",
    "    r, s, t = _extended_euclid_base(b, a)\n",
    "    return r, t, s\n",
    "\n",
    "def _extended_euclid_base(a, b):\n",
    "    prev_r, r = a, b\n",
    "    prev_s, s = 1, 0\n",
    "    prev_t, t = 0, 1\n",
    "\n",
    "    while r != 0:\n",
    "        q = prev_r // r\n",
    "        prev_r, r = r, prev_r % r\n",
    "        prev_s, s = s, prev_s - q * s\n",
    "        prev_t, t = t, prev_t - q * t\n",
    "\n",
    "    return prev_r, prev_s, prev_t"
   ]
  },
  {
   "cell_type": "markdown",
   "id": "10e461c4-cf5a-4088-a517-7e62269613ee",
   "metadata": {},
   "source": [
    "Pasamos finalmente a definir la función que nos dice que un número es probablemente un primo"
   ]
  },
  {
   "cell_type": "code",
   "execution_count": 4,
   "id": "f67c3bf8-0d60-4736-bd6a-fdd52d2ef8f2",
   "metadata": {},
   "outputs": [],
   "source": [
    "import random"
   ]
  },
  {
   "cell_type": "code",
   "execution_count": 5,
   "id": "b74ee674-87a8-4c5b-bc14-9a35cce79002",
   "metadata": {},
   "outputs": [],
   "source": [
    "def _is_probably_prime(n, iterations=100):\n",
    "    if n == 2:\n",
    "        return True\n",
    "    if n % 2 == 0 or n == 1:\n",
    "        return False\n",
    "    if es_potencia(n):\n",
    "        return False\n",
    "    \n",
    "    for i in range(iterations):\n",
    "        a = random.randint(1, n - 1)\n",
    "        if _extended_euclid(a, n)[0] > 1:\n",
    "            return False\n",
    "        b = pow(a, (n - 1) // 2, n)\n",
    "        if b == n - 1:\n",
    "            found_negative = True\n",
    "        elif b != 1:\n",
    "            return False\n",
    "    \n",
    "    return found_negative"
   ]
  },
  {
   "cell_type": "markdown",
   "id": "ccfcc4f7-601d-45c2-bb46-b4e27b5a3cfb",
   "metadata": {},
   "source": [
    "Probemos algunos casos"
   ]
  },
  {
   "cell_type": "code",
   "execution_count": 6,
   "id": "d34f4f47-7215-4561-8c60-6d06a2486169",
   "metadata": {},
   "outputs": [],
   "source": [
    "assert not _is_probably_prime(12387568637)\n",
    "assert _is_probably_prime(5943632362508814456797384433006100442712303295066940614569354936549874999082678378231629906729379134167935471382621311620276545251597436711454168850267595109678077983960376792735878876067066338864239372227790339203350191408856924700453890622245349547304896138668552188577288047417779378700982792791819866553113608966810109430765067528429902116607213626746562172730714525439765422832045628189761714003)"
   ]
  },
  {
   "cell_type": "markdown",
   "id": "8585aafc-6921-4758-a3bb-9da8de973914",
   "metadata": {},
   "source": [
    "Pareciera estar funcionando bien. Pasamos a definir una función que genera primos sacando números al azar.\n",
    "La haremos un poco más general, pidiéndole que genere varios primos en una llamada."
   ]
  },
  {
   "cell_type": "code",
   "execution_count": 7,
   "id": "17a21830-995f-4f6e-890b-4df28d8f91de",
   "metadata": {},
   "outputs": [],
   "source": [
    "def _generate_primes(bit_number, number=2):\n",
    "    # Definimos el mayor y menor número con la cantidad de bits requerida\n",
    "    upper = 2 ** bit_number - 1\n",
    "    lower = 2 ** (bit_number - 1)\n",
    "    \n",
    "    primes = []\n",
    "    while len(primes) < number:\n",
    "        r = random.randint(lower, upper)\n",
    "        if _is_probably_prime(r):\n",
    "            primes.append(r)\n",
    "\n",
    "    return primes"
   ]
  },
  {
   "cell_type": "markdown",
   "id": "5964a810-5c3a-46f1-b732-01cb5eb01089",
   "metadata": {},
   "source": [
    "Probemos la función con algo reconocible y luego con algo grande"
   ]
  },
  {
   "cell_type": "code",
   "execution_count": 8,
   "id": "8231a8a8-b3df-40d0-b44a-73d0da9f68e3",
   "metadata": {},
   "outputs": [
    {
     "data": {
      "text/plain": [
       "[124375247072980131746990873243134268844337681688399465657646029371412229389818484234809792375929889446032908495012883995815816399025580963109801548982902031315524936237638469696243133763114074112261997854615147015912927320026518860339651972895855282062300887972585242227502124459677985850321847676596967181161,\n",
       " 168468344407752525603449664523336601572368621706182922249494950212982110370025992019865606276871360500608410590272485628355987865876657825091702120446500242670774218512223947771490399017131334038105939748743758270136834606978550280251251663793058029360593961782988014421514304147712992624646799897234638360611]"
      ]
     },
     "execution_count": 8,
     "metadata": {},
     "output_type": "execute_result"
    }
   ],
   "source": [
    "_generate_primes(1024, 2)"
   ]
  },
  {
   "cell_type": "markdown",
   "id": "ba1bb990-ff21-4052-9b8d-c62d24428a3b",
   "metadata": {},
   "source": [
    "Se ve razonable. Vamos ahora a las clases para enviar y recibir."
   ]
  },
  {
   "cell_type": "code",
   "execution_count": 9,
   "id": "e906c814-f511-440f-bd3b-f7f5214d1712",
   "metadata": {},
   "outputs": [],
   "source": [
    "class RSAReceiver():\n",
    "    def __init__(self, bit_len):\n",
    "        P, Q = 0, 0\n",
    "        while P == Q:\n",
    "            P, Q = _generate_primes(max(bit_len // 2 + 1, 9))\n",
    "        self.N = P * Q\n",
    "        self.block_size = (self.N.bit_length() + 1) // 8\n",
    "        \n",
    "        # Encontramos un d al azar co-primo con phi\n",
    "        phi = (P - 1) * (Q - 1)\n",
    "        \n",
    "        r = 2 # r será el MCD entre phi y d\n",
    "        while r != 1:\n",
    "            self.d = random.randint(2 ** (bit_len - 1), 2 ** bit_len - 1)\n",
    "            r, s, t = _extended_euclid(phi, self.d)\n",
    "            \n",
    "        e = t % phi\n",
    "        self.public_key = (\n",
    "            ((e.bit_length() + 7) // 8).to_bytes(4, 'big') +\n",
    "            e.to_bytes((e.bit_length() + 7) // 8, 'big') +\n",
    "            ((self.N.bit_length() + 7) // 8).to_bytes(4, 'big') +\n",
    "            self.N.to_bytes((self.N.bit_length() + 7) // 8, 'big')\n",
    "        )\n",
    "        \n",
    "        \n",
    "    def get_public_key(self):\n",
    "        return self.public_key\n",
    "    \n",
    "    def decrypt(self, ciphertext):\n",
    "        plainbytes = bytearray()\n",
    "        # Usamos block_size + 1 dado que ese es el tamaño de los bloques encriptados\n",
    "        for i in range(0, len(ciphertext), self.block_size + 1):\n",
    "            block = ciphertext[i: i + self.block_size + 1]\n",
    "            block_number = int.from_bytes(block, 'big')\n",
    "            plain_block_number = pow(block_number, self.d, self.N)\n",
    "            plain_block = plain_block_number.to_bytes(self.block_size, 'big')\n",
    "            plainbytes += plain_block\n",
    "            \n",
    "        # El texto no puede tener \\x00, lo sacamos para evitar errores en el último bloque.\n",
    "        return plainbytes.decode('utf-8').replace('\\x00', '')"
   ]
  },
  {
   "cell_type": "code",
   "execution_count": 10,
   "id": "b0f2596d-ca54-4e1b-9418-16b2afabcd5f",
   "metadata": {},
   "outputs": [],
   "source": [
    "class RSASender():\n",
    "    def __init__(self, public_key):\n",
    "        length_e = int.from_bytes(public_key[:4], 'big')\n",
    "        self.e = int.from_bytes(public_key[4: 4 + length_e], 'big')\n",
    "        self.N = int.from_bytes(public_key[8 + length_e:], 'big')\n",
    "        self.block_size = (self.N.bit_length() + 1) // 8\n",
    "    \n",
    "    def encrypt(self, message):\n",
    "        ciphertext = bytearray()\n",
    "        message_bytes = bytearray(message, 'utf-8')\n",
    "        \n",
    "        # Encriptamos cada bloque del mensaje por separado\n",
    "        for i in range(0, len(message_bytes), self.block_size):\n",
    "            block = message_bytes[i: i + self.block_size]\n",
    "            block_number = int.from_bytes(block, 'big')\n",
    "            encrypted_block_number = pow(block_number, self.e, self.N)\n",
    "            # Los bloques encriptados usan block_size + 1 bytes\n",
    "            encrypted_block = encrypted_block_number.to_bytes(self.block_size + 1, 'big')\n",
    "            ciphertext += encrypted_block\n",
    "        return ciphertext"
   ]
  },
  {
   "cell_type": "markdown",
   "id": "0aab7977-639e-41c6-8ee5-13acadc9a628",
   "metadata": {},
   "source": [
    "Probemos ahora que todo funciona bien con un ejemplo. Creamos un receiver con una llave de largo 1024."
   ]
  },
  {
   "cell_type": "code",
   "execution_count": 11,
   "id": "5e803d84-0ba0-42ea-9f44-5571c6faec9b",
   "metadata": {},
   "outputs": [],
   "source": [
    "receiver = RSAReceiver(1024)\n",
    "sender = RSASender(receiver.get_public_key())"
   ]
  },
  {
   "cell_type": "markdown",
   "id": "a74067f3-f21f-4b32-8131-4ac53b223ba3",
   "metadata": {},
   "source": [
    "Definimos un mensaje para encriptar y decriptar"
   ]
  },
  {
   "cell_type": "code",
   "execution_count": 12,
   "id": "953beacb-d6f9-4d31-8e9e-ba28c9eb6db7",
   "metadata": {},
   "outputs": [],
   "source": [
    "text = (\n",
    "    'Being open source means anyone can independently review '\n",
    "    'the code. If it was closed source, nobody could verify the '\n",
    "    'security. I think it’s essential for a program of this '\n",
    "    'nature to be open source.'\n",
    ")"
   ]
  },
  {
   "cell_type": "markdown",
   "id": "45c79b09-0c30-4624-9c4c-6ebce2ec60c8",
   "metadata": {},
   "source": [
    "Lo encriptamos y lo imprimimos en alguna codificación que extienda ASCII (ya que muy probablemente no será un string válido en UTF-8):"
   ]
  },
  {
   "cell_type": "code",
   "execution_count": 13,
   "id": "e313635d-fc7a-4ea9-8733-71424daf7d18",
   "metadata": {},
   "outputs": [
    {
     "name": "stdout",
     "output_type": "stream",
     "text": [
      "\u0001Æ≤ⁿ└Ü╬Γ\u0014▓6╧╫º±U▀~c╚&Xhèr╔ºïær?°9âK∙Θ╧ç\u001d",
      "╝Ω\u001d",
      "·qÜΦ╞╢£╡τ¡╛Ñ4╬2≡]:9w(Nvπê!l<S╟3φ╩]╚÷F\u0012+╔Ywæ¿XS{C≈.SÇ┬╤sJú╫ñ½Ñ\u0000─╡m~\f",
      "Q\u0018\u0005Yσ⌐■¼1╟á¢τP⌠û+;\u0013\u0000L/âd╒e·┼Z\u0001«\u001c",
      "ä⌠∙-;cuπñ \u0006I\u0012\u0019ä(n▒¢aó\u0003çue╚]\u000b",
      "0ZûoK7¢αï╫▄dÜ4╬ù:⌡K└]Rú╖Çü·\u001d",
      "²üazë╣R╠\u0014┴rΘ╤─K2╦╫o╓\b±^¿s₧vj\u0006\u0006ná└\u0000x»ß\u0014¡a\u0019¬¿Ç\u0019z°▐5■\u0016h°┐╩\u0000└┼█\n"
     ]
    }
   ],
   "source": [
    "cipher = sender.encrypt(text)\n",
    "print(cipher.decode('cp437'))"
   ]
  },
  {
   "cell_type": "markdown",
   "id": "1aa12f26-a2c6-4c64-8b82-9a138094d84b",
   "metadata": {},
   "source": [
    "Vemos que se ve aleatorio. Ahora decriptémoslo."
   ]
  },
  {
   "cell_type": "code",
   "execution_count": 14,
   "id": "748e6469-3070-4cef-b61e-ecce735d02d2",
   "metadata": {},
   "outputs": [
    {
     "name": "stdout",
     "output_type": "stream",
     "text": [
      "Being open source means anyone can independently review the code. If it was closed source, nobody could verify the security. I think it’s essential for a program of this nature to be open source.\n"
     ]
    }
   ],
   "source": [
    "plaintext = receiver.decrypt(cipher)\n",
    "print(plaintext)"
   ]
  },
  {
   "cell_type": "markdown",
   "id": "c4cf344c-6a25-445d-a2ff-51bde8f8437c",
   "metadata": {},
   "source": [
    "Yo creo que con este código nos sacamos un 7."
   ]
  },
  {
   "cell_type": "code",
   "execution_count": 15,
   "id": "b6714974-6bd0-49ef-b7e0-b95315f60ff2",
   "metadata": {},
   "outputs": [
    {
     "name": "stdout",
     "output_type": "stream",
     "text": [
      "b'ALwPm7JXWbqGeIflV8PYgprs6mSgCH2Ydy0rgvFolzY0mczKItlPSHueL54uvDJXIz9pXoHZGAOPWVYYbcwRh3EBl8pi3MraUC2BBFUviMPFwNMwza/QMd5DNG9tH8doHlLRRt+15wLrsIE+m5T8fuM4HHixSNcEoOdN8T++q0PkzQDXL+UgbusiD3J+QPO59aqAB5HFcZ7P5U3fhFS8Qm1vLG8vlIulCby0jGLgjTtLUhFD/QhAof0y4F20gxedQDHwAOIrz6PEoBWnHmwLU0QNN0Rs542RvJ8BeEGhBDS5ZvD0/0Ix3ZqKT6HtP4ugfPD75/5LYGioJBwrg2DXbQucFj8='\n"
     ]
    }
   ],
   "source": [
    "from base64 import b64encode, b64decode\n",
    "public_key = b64decode('AAAAQQGHaihgiufnjzyLXufDjUCGuaHrsUL+hCF/pMFHPoh+ZVi/2bMFh6oelzElVklsJ9mglyQjJIKAb1JB9mvtaEkLAAAAQQHIuF+wIJw6uzq8uXpW/QmsNjtBJ8HCJJcu2h7sDX18nc2qWYDWTfMiXPmPRvhkkz4A0oXTAMDP9xsxUIjYQNsx')\n",
    "text = (\n",
    "    'Being open source means anyone can independently review '\n",
    "    'the code. If it was closed source, nobody could verify the '\n",
    "    'security. I think it’s essential for a program of this '\n",
    "    'nature to be open source.'\n",
    ")\n",
    "sender = RSASender(public_key)\n",
    "cipher = sender.encrypt(text)\n",
    "print(b64encode(cipher))"
   ]
  },
  {
   "cell_type": "markdown",
   "id": "2a9e577e-b867-4552-80da-ead97b89a1f1",
   "metadata": {},
   "source": [
    "## Generando los ejemplos de corrección.\n",
    "Para la corrección generaremos varios ejemplos para encriptar y varios ejemplos para decriptar. Los guardaremos en un json y usaremos base 64 para que sea legible."
   ]
  },
  {
   "cell_type": "code",
   "execution_count": 16,
   "id": "d6723f74-d0bb-42e2-b626-f58ac0f515c9",
   "metadata": {},
   "outputs": [],
   "source": [
    "import json\n",
    "import random\n",
    "from base64 import b64encode"
   ]
  },
  {
   "cell_type": "markdown",
   "id": "6db7e0c9-d7ff-4622-953e-7c4c9e797fe8",
   "metadata": {},
   "source": [
    "Los ejemplos para decriptar requieren simplemente un texto y un largo de llave. Se instanciará la clase RSAReceiver del alumno y se le pedirá la llave pública, con lo que se instanciará la clase RSASender presentada más arriba. Luego se encriptará el mensaje con RSASender, se pedirá decriptar el texto y se evaluará si son o no son iguales. Los textos que se utilizarán serán los primeros 15 párrafos del discurso de Denzel Washington del 16 de Mayo de 2011 en la Universidad de Pennsylvania."
   ]
  },
  {
   "cell_type": "code",
   "execution_count": 17,
   "id": "668d1b27-fc16-4b68-bb3a-1f5b4c996a51",
   "metadata": {},
   "outputs": [],
   "source": [
    "possible_key_lengths = [128, 256, 512, 1024]\n",
    "enc_examples = []\n",
    "dec_examples = []"
   ]
  },
  {
   "cell_type": "code",
   "execution_count": 18,
   "id": "34b79113-4ee3-45f5-85f2-6fa54a8ef37e",
   "metadata": {},
   "outputs": [],
   "source": [
    "content = open('speech.txt').read()\n",
    "paragraphs = content.split('\\n\\n')"
   ]
  },
  {
   "cell_type": "code",
   "execution_count": 19,
   "id": "fc2edc6b-8281-437b-b143-2d830505424c",
   "metadata": {},
   "outputs": [],
   "source": [
    "for par in paragraphs[:15]:\n",
    "    dec_examples.append({\n",
    "        'text': par,\n",
    "        'key_len': random.choice(possible_key_lengths)\n",
    "    })"
   ]
  },
  {
   "cell_type": "markdown",
   "id": "d038aa31-931c-413e-89c8-4fcbdd6eb994",
   "metadata": {},
   "source": [
    "Los ejemplos para encriptar requieren tanto una llave pública como un texto. Los textos serán los próximos 15 párrafos del mismo discurso. Las llaves públicas se generan aleatoriamente utilizando la clase RSAReceiver definida arriba."
   ]
  },
  {
   "cell_type": "code",
   "execution_count": 20,
   "id": "5bd3ff00-d737-42dc-92b8-113f4094a5a1",
   "metadata": {},
   "outputs": [],
   "source": [
    "for par in paragraphs[15:30]:\n",
    "    receiver = RSAReceiver(random.choice(possible_key_lengths))\n",
    "    sender = RSASender(receiver.get_public_key())\n",
    "    enc_examples.append({\n",
    "        'public_key': b64encode(receiver.get_public_key()).decode(),\n",
    "        'text': par,\n",
    "        'ciphertext': b64encode(sender.encrypt(par)).decode()\n",
    "    })"
   ]
  },
  {
   "cell_type": "markdown",
   "id": "7b59f7b5-f47a-402e-84a5-f9aadcc23d64",
   "metadata": {},
   "source": [
    "Escribimos los resultados a un archivo json"
   ]
  },
  {
   "cell_type": "code",
   "execution_count": 21,
   "id": "837f39f6-766e-4345-a4f3-97ec6614f794",
   "metadata": {
    "tags": []
   },
   "outputs": [],
   "source": [
    "grading_file = open('grading.json', 'w')\n",
    "grading_file.write(\n",
    "    json.dumps(\n",
    "        {'encryption': enc_examples, 'decryption': dec_examples},\n",
    "        indent=4\n",
    "    )\n",
    ")\n",
    "grading_file.close()"
   ]
  },
  {
   "cell_type": "markdown",
   "id": "1cac8e33-d16f-434d-afe6-fa5e5f21b85f",
   "metadata": {},
   "source": [
    "## Evaluación\n",
    "Esta tarea se evaluará de forma simple, contando simplemente la cantidad de ejemplos correctos. En caso de que al decriptar un texto no se eliminen los ceros del último bloque habrá un pequeño descuento."
   ]
  },
  {
   "cell_type": "code",
   "execution_count": 22,
   "id": "b347989c-035a-4d37-b194-bd8a8244d3e8",
   "metadata": {},
   "outputs": [],
   "source": [
    "import json\n",
    "from base64 import b64decode"
   ]
  },
  {
   "cell_type": "code",
   "execution_count": 23,
   "id": "08da804f-a971-45f6-b8c1-5c2530adb119",
   "metadata": {},
   "outputs": [],
   "source": [
    "examples = json.loads(open('grading.json').read())\n",
    "enc_points = 0\n",
    "dec_points = 0\n",
    "dec_discounts = 0"
   ]
  },
  {
   "cell_type": "code",
   "execution_count": 24,
   "id": "1b222fc8-83f1-4109-ba10-be87995f5e10",
   "metadata": {},
   "outputs": [],
   "source": [
    "for enc_example in examples['encryption']:\n",
    "    public_key = b64decode(enc_example['public_key'])\n",
    "    ciphertext = b64decode(enc_example['ciphertext'])\n",
    "    \n",
    "    # Clase RSASender del alumno\n",
    "    sender = RSASender(public_key)\n",
    "    student_ciphertext = sender.encrypt(enc_example['text'])\n",
    "    \n",
    "    if student_ciphertext == ciphertext:\n",
    "        enc_points += 1"
   ]
  },
  {
   "cell_type": "markdown",
   "id": "cd8db9a9-45e5-418b-9718-84494c6c7339",
   "metadata": {},
   "source": [
    "Pasamos a los ejemplos para decriptar"
   ]
  },
  {
   "cell_type": "code",
   "execution_count": 25,
   "id": "7d6ed0de-917f-4dba-bafd-fce871665de1",
   "metadata": {},
   "outputs": [],
   "source": [
    "for dec_example in examples['decryption']:\n",
    "    # Clase RSAReceiver del alumno\n",
    "    receiver = RSAReceiver(dec_example['key_len'])\n",
    "    \n",
    "    # Clase RSASender de referencia\n",
    "    sender = RSASender(receiver.get_public_key())\n",
    "    \n",
    "    plaintext = dec_example['text']\n",
    "    ciphertext = sender.encrypt(dec_example['text'])\n",
    "    student_plaintext = receiver.decrypt(ciphertext)\n",
    "    \n",
    "    if student_plaintext == plaintext:\n",
    "        dec_points += 1\n",
    "    elif student_plaintext.replace('\\x00', '') == plaintext:\n",
    "        dec_points += 1\n",
    "        dec_discounts += 1"
   ]
  },
  {
   "cell_type": "markdown",
   "id": "b9cf1053-a784-4ad9-9f9d-17aea12eb68c",
   "metadata": {},
   "source": [
    "Finalmente imprimimos los puntajes y notas"
   ]
  },
  {
   "cell_type": "code",
   "execution_count": 26,
   "id": "813733f7-1bb9-4c51-b6ac-ba8a168fdffc",
   "metadata": {},
   "outputs": [
    {
     "name": "stdout",
     "output_type": "stream",
     "text": [
      "--- Resultados evaluación P2 ---\n",
      "Puntos por encriptar: 15 / 15\n",
      "Puntos por decriptar: 15 / 15\n",
      "Puntos descontados por último bloque: 0.0\n",
      "Puntos totales: 30.0 / 30.0\n",
      "Nota: 7.0\n"
     ]
    }
   ],
   "source": [
    "discounted_points = dec_discounts / 10\n",
    "total_points = enc_points + dec_points - discounted_points\n",
    "print('--- Resultados evaluación P2 ---')\n",
    "print(f'Puntos por encriptar: {enc_points} / 15')\n",
    "print(f'Puntos por decriptar: {enc_points} / 15')\n",
    "print(f'Puntos descontados por último bloque: {discounted_points}')\n",
    "print(f'Puntos totales: {total_points} / 30.0')\n",
    "print(f'Nota: {1 + 6.0 * total_points / 30}')"
   ]
  },
  {
   "cell_type": "markdown",
   "id": "51e3b87f-f49c-4906-9072-2ca3cc99c84f",
   "metadata": {},
   "source": [
    "Nos sacamos un 7!"
   ]
  },
  {
   "cell_type": "code",
   "execution_count": null,
   "id": "8f0ba39a",
   "metadata": {},
   "outputs": [],
   "source": []
  }
 ],
 "metadata": {
  "kernelspec": {
   "display_name": "Python 3 (ipykernel)",
   "language": "python",
   "name": "python3"
  },
  "language_info": {
   "codemirror_mode": {
    "name": "ipython",
    "version": 3
   },
   "file_extension": ".py",
   "mimetype": "text/x-python",
   "name": "python",
   "nbconvert_exporter": "python",
   "pygments_lexer": "ipython3",
   "version": "3.9.12"
  }
 },
 "nbformat": 4,
 "nbformat_minor": 5
}
