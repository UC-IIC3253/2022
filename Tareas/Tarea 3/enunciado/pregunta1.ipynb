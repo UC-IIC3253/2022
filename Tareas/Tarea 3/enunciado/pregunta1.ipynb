{
 "cells": [
  {
   "cell_type": "markdown",
   "id": "07dde66a",
   "metadata": {},
   "source": [
    "# Tarea 3\n",
    "En esta tarea usted deberá completar el siguiente notebook, en el cual va a implementar el protocolo ElGamal sobre curvas elípticas."
   ]
  },
  {
   "cell_type": "markdown",
   "id": "9d9590d6-9ec6-4f5e-b1d2-b0776446851e",
   "metadata": {},
   "source": [
    "## Funciones auxiliares\n",
    "Primero necesitamos un test de primalidad, para lo cual usamos lo mismo que para la pregunta 2 de la Tarea 2."
   ]
  },
  {
   "cell_type": "code",
   "execution_count": null,
   "id": "87aaa8dd-1e50-4a28-88a2-950b7c4d7227",
   "metadata": {},
   "outputs": [],
   "source": [
    "import random\n",
    "\n",
    "def _is_natural_power(n):\n",
    "    # Para cada posible exponente, hacemos búsqueda binaria de la base\n",
    "    search_exponent = 2\n",
    "    \n",
    "    # Optimiazación: si n no es a ^ k no puede ser a ^ (kr) para ningún\n",
    "    # r, por lo que sólo probamos con exponentes primos\n",
    "    avoid_exponents = set()\n",
    "    \n",
    "    while pow(2, search_exponent) <= n:\n",
    "        \n",
    "        if search_exponent not in avoid_exponents:\n",
    "            # Usamos búsqueda binaria \"creciente\" para definir el intervalo\n",
    "            # inicial\n",
    "            search_start = 2\n",
    "            i = 2\n",
    "            while search_start ** search_exponent < n:\n",
    "                search_start *= 2\n",
    "                avoid_exponents.add(search_exponent * i)\n",
    "                i += 1\n",
    "                \n",
    "            upper = search_start\n",
    "            lower = search_start // 2\n",
    "\n",
    "            # Búsqueda binaria\n",
    "            while lower != upper:\n",
    "                mid = (upper + lower) // 2\n",
    "                result = pow(mid, search_exponent)\n",
    "                if result < n:\n",
    "                    lower = mid + 1\n",
    "                elif result > n:\n",
    "                    upper = mid\n",
    "                else:\n",
    "                    return True\n",
    "\n",
    "            # Caso borde en que upper ^ search_exponent era justo n\n",
    "            if pow(upper, search_exponent) == n:\n",
    "                return True\n",
    "            \n",
    "        search_exponent += 1\n",
    "    \n",
    "    return False"
   ]
  },
  {
   "cell_type": "code",
   "execution_count": null,
   "id": "f8c3290e-0033-460f-8894-3d988a9d7b27",
   "metadata": {},
   "outputs": [],
   "source": [
    "def _extended_euclid(a, b):\n",
    "    if a > b:\n",
    "        return _extended_euclid_base(a, b)\n",
    "    r, s, t = _extended_euclid_base(b, a)\n",
    "    return r, t, s\n",
    "\n",
    "def _extended_euclid_base(a, b):\n",
    "    prev_r, r = a, b\n",
    "    prev_s, s = 1, 0\n",
    "    prev_t, t = 0, 1\n",
    "\n",
    "    while r != 0:\n",
    "        q = prev_r // r\n",
    "        prev_r, r = r, prev_r % r\n",
    "        prev_s, s = s, prev_s - q * s\n",
    "        prev_t, t = t, prev_t - q * t\n",
    "\n",
    "    return prev_r, prev_s, prev_t"
   ]
  },
  {
   "cell_type": "code",
   "execution_count": null,
   "id": "b74ee674-87a8-4c5b-bc14-9a35cce79002",
   "metadata": {},
   "outputs": [],
   "source": [
    "def _is_probably_prime(n, iterations=100):\n",
    "    if n == 2:\n",
    "        return True\n",
    "    if n % 2 == 0 or n == 1:\n",
    "        return False\n",
    "    if _is_natural_power(n):\n",
    "        return False\n",
    "    \n",
    "    for i in range(iterations):\n",
    "        a = random.randint(1, n - 1)\n",
    "        if _extended_euclid(a, n)[0] > 1:\n",
    "            return False\n",
    "        b = pow(a, (n - 1) // 2, n)\n",
    "        if b == n - 1:\n",
    "            found_negative = True\n",
    "        elif b != 1:\n",
    "            return False\n",
    "    \n",
    "    return found_negative"
   ]
  },
  {
   "cell_type": "markdown",
   "id": "ccfcc4f7-601d-45c2-bb46-b4e27b5a3cfb",
   "metadata": {},
   "source": [
    "## Una primera clase y sus elementos\n",
    "Como un ejemplo de la forma en la cual debe ser implementado el protocolo ElGamal en esta tarea, consideramos a los grupos Z<sub>p</sub><sup>\\*</sup> vistos en clases. En particular, definimos la clase `ZpStar` cuyas instancias son estos grupos. Para representar a los elementos dentro de Z<sub>p</sub><sup>\\*</sup>, en su constructor se crea dinámicamente otra clase."
   ]
  },
  {
   "cell_type": "code",
   "execution_count": null,
   "id": "b09a7361-e303-44b9-9e96-962a03265b83",
   "metadata": {},
   "outputs": [],
   "source": [
    "class ZpStar:\n",
    "    \n",
    "    def __init__(self, p):\n",
    "        if not _is_probably_prime(p):\n",
    "            raise Exception(f\"p={p} is not a prime number\")\n",
    "        class Element:\n",
    "            def __init__(self, value):\n",
    "                if value < 1 or value > p-1:\n",
    "                    raise Exception(f\"value={value} is not in the range 1,...,{p-1}\")\n",
    "                self.value = value\n",
    "\n",
    "            # Allows to compare elements with ==\n",
    "            def __eq__(self, other_element):\n",
    "                return self.value == other_element.value\n",
    "\n",
    "            # Allows to operate elements with *\n",
    "            def __mul__(self, other_element):\n",
    "                return Element((self.value * other_element.value) % p)\n",
    "\n",
    "            # Allows to use ** as exponentiation\n",
    "            def __pow__(self, exponent):\n",
    "                return Element(pow(self.value, exponent, p))\n",
    "\n",
    "            # Allows to use str(e) to transform element e into a string\n",
    "            def __str__(self):\n",
    "                return str(self.value)\n",
    "                \n",
    "        self.element_class = Element\n",
    "                \n",
    "    def get_identity(self):\n",
    "        return self.get_element(1)\n",
    "    \n",
    "    def get_element(self, n):\n",
    "        return self.element_class(n)"
   ]
  },
  {
   "cell_type": "markdown",
   "id": "4e70486b-d2e0-4f68-9ced-bd03a2df8095",
   "metadata": {},
   "source": [
    "Ahora usted debe completar las definiciones de las clases para enviar y recibir mensajes con ElGamal."
   ]
  },
  {
   "cell_type": "code",
   "execution_count": null,
   "id": "733778db-6393-4d30-bf23-bf233be3933b",
   "metadata": {},
   "outputs": [],
   "source": [
    "class ElGamalReceiver:\n",
    "    def __init__(self, group, generator, group_order):\n",
    "        # Is the order of the generator correct? For this we check that\n",
    "        # 1. The group order is prime; and\n",
    "        # 2. The generator to the power of the order is 1.\n",
    "        ##### POR COMPLETAR \n",
    "            \n",
    "        # The secret key is simply a random scalar in the correct range\n",
    "        ##### POR COMPLETAR\n",
    "\n",
    "    def get_public_key(self):\n",
    "        # The public key must be a tuple containing the group,\n",
    "        # the generator, the order of the generator, and the\n",
    "        # generator to the power secret_key\n",
    "        ##### POR COMPLETAR \n",
    "        \n",
    "    def decrypt(self, ciphertext):\n",
    "        # Receives a pair representing a ciphertext.\n",
    "        ##### POR COMPLETAR "
   ]
  },
  {
   "cell_type": "markdown",
   "id": "012198e9",
   "metadata": {},
   "source": [
    "De la misma forma que para la clase `ZpStar`, su implementación del constructor de la clase `ElGamalReceiver` debe generar excepciones si los parámetros entregados no son correctos (puede suponer que los tipos de estos parámetros siempre van a ser los correctos). Por ejemplo, si `group_order` no es un número primo, entonces se debe generar una excepción (puede suponer que el valor entregado en `group_order` va a ser un número natural mayor o igual a 1)."
   ]
  },
  {
   "cell_type": "code",
   "execution_count": null,
   "id": "4ebef73d-283b-401b-bdcb-f047037284b5",
   "metadata": {},
   "outputs": [],
   "source": [
    "class ElGamalSender:\n",
    "    def __init__(self, pubkey):\n",
    "        ##### POR COMPLETAR \n",
    "\n",
    "    def encrypt(self, group_element):    \n",
    "        # We are only encrypting single group elements.\n",
    "        # According to ElGamal, the ciphertext is a pair.\n",
    "        ##### POR COMPLETAR    "
   ]
  },
  {
   "cell_type": "markdown",
   "id": "becae2fc",
   "metadata": {},
   "source": [
    "Recuerde que el protocolo ElGamal está definido para cualquier grupo, y por lo tanto se espera que su implementación funcione con una interfaz genérica para interactuar con estos objetos. Por ejemplo, en el siguiente código se utiliza el protocolo ElGamal para el grupo Z<sub>149</sub><sup>\\*</sup>."
   ]
  },
  {
   "cell_type": "code",
   "execution_count": null,
   "id": "69ec180e-ec79-4852-b58f-96ca8fd9b2e3",
   "metadata": {},
   "outputs": [],
   "source": [
    "p, generator, order = 149, 25, 37\n",
    "group = ZpStar(p)\n",
    "generator = group.get_element(generator)\n",
    "\n",
    "receiver = ElGamalReceiver(group, generator, order)\n",
    "sender = ElGamalSender(receiver.get_public_key())\n",
    "\n",
    "plaintext = group.get_element(121)\n",
    "ciphertext = sender.encrypt(plaintext)\n",
    "dec = receiver.decrypt(ciphertext)\n",
    "\n",
    "print(\"\\nPlaintext:      \", str(plaintext))\n",
    "print(\"Decrypted text: \", str(dec))"
   ]
  },
  {
   "cell_type": "markdown",
   "id": "94d28b67-0be9-4dab-a730-d856a510adc0",
   "metadata": {},
   "source": [
    "Una vez que haya completado las definiciones de las clases para enviar y recibir mensajes con ElGamal, el código anterior debe mostrar lo siguiente:\n",
    "\n",
    "Plaintext:       121  \n",
    "Decrypted text:  121\n",
    "\n",
    "Nótese que en este caso 121 es el mensaje a enviar, el cual es definido como un elemento del grupo Z<sub>149</sub><sup>\\*</sup> a través de la línea `plaintext = group.get_element(121)`."
   ]
  },
  {
   "cell_type": "markdown",
   "id": "b0a0177b",
   "metadata": {},
   "source": [
    "Como un segundo ejemplo considere un grupo Z<sub>p</sub><sup>\\*</sup> que es usado en la práctica."
   ]
  },
  {
   "cell_type": "code",
   "execution_count": null,
   "id": "f8eadc1f-c989-4f99-a231-f8817e6bd91e",
   "metadata": {},
   "outputs": [],
   "source": [
    "p = 17125458317614137930196041979257577826408832324037508573393292981642667139747621778802438775238728592968344613589379932348475613503476932163166973813218698343816463289144185362912602522540494983090531497232965829536524507269848825658311420299335922295709743267508322525966773950394919257576842038771632742044142471053509850123605883815857162666917775193496157372656195558305727009891276006514000409365877218171388319923896309377791762590614311849642961380224851940460421710449368927252974870395873936387909672274883295377481008150475878590270591798350563488168080923804611822387520198054002990623911454389104774092183\n",
    "generator_value = 8041367327046189302693984665026706374844608289874374425728797669509435881459140662650215832833471328470334064628508692231999401840332046192569287351991689963279656892562484773278584208040987631569628520464069532361274047374444344996651832979378318849943741662110395995778429270819222431610927356005913836932462099770076239554042855287138026806960470277326229482818003962004453764400995790974042663675692120758726145869061236443893509136147942414445551848162391468541444355707785697825741856849161233887307017428371823608125699892904960841221593344499088996021883972185241854777608212592397013510086894908468466292313\n",
    "order = 63762351364972653564641699529205510489263266834182771617563631363277932854227\n",
    "\n",
    "group = ZpStar(p)\n",
    "generator = group.get_element(generator_value)\n",
    "\n",
    "receiver = ElGamalReceiver(group, generator, order)\n",
    "\n",
    "sender = ElGamalSender(receiver.get_public_key())\n",
    "\n",
    "message = 98983374938374643576429837455646547364648570928735482734692838743\n",
    "\n",
    "plaintext = group.get_element(message)\n",
    "ciphertext = sender.encrypt(plaintext)\n",
    "dec = receiver.decrypt(ciphertext)\n",
    "\n",
    "print(\"\\nPlaintext:      \", str(plaintext))\n",
    "print(\"Decrypted text: \", str(dec),\"\\n\")"
   ]
  },
  {
   "cell_type": "markdown",
   "id": "7d6b7b77",
   "metadata": {},
   "source": [
    "Una vez que haya completado las definiciones de las clases para enviar y recibir mensajes con ElGamal, el código anterior debe mostrar lo siguiente:\n",
    "\n",
    "Plaintext:       98983374938374643576429837455646547364648570928735482734692838743  \n",
    "Decrypted text:  98983374938374643576429837455646547364648570928735482734692838743"
   ]
  },
  {
   "cell_type": "markdown",
   "id": "95bb4b5a-e7ca-4213-b2ab-b5eedd6e8414",
   "metadata": {},
   "source": [
    "## Utilizando curvas elípticas\n",
    "En esta segunda parte de la tarea, usted debe utilizar el protocolo ElGamal sobre grupos definidos por curvas elípticas. En particular, debe completar la siguiente definición de la clase `EllipticCurve` considerando la definición de curvas elípticas dada en la ecuación (9.2) del la sección 9.3.4 del texto guía del curso:\n",
    "\n",
    "Jonathan Katz y Yehuda Lindell. Introduction to Modern Cryptography. Chapman and Hall/CRC,\n",
    "tercera edición, 2020."
   ]
  },
  {
   "cell_type": "code",
   "execution_count": null,
   "id": "84d95eec",
   "metadata": {},
   "outputs": [],
   "source": [
    "class EllipticCurve:\n",
    "    def __init__(self, A, B, p):\n",
    "        # Raise exceptions\n",
    "        ##### POR COMPLETAR         \n",
    "        \n",
    "        class Element:\n",
    "            def __init__(self, x, y = None):\n",
    "                ##### POR COMPLETAR  \n",
    "\n",
    "            def __eq__(self, other_element):\n",
    "                ##### POR COMPLETAR  \n",
    "\n",
    "            def __mul__(self, other_element):\n",
    "                ##### POR COMPLETAR  \n",
    "                    \n",
    "            def __pow__(self, exponent):\n",
    "                ##### POR COMPLETAR  \n",
    "\n",
    "            def __str__(self):\n",
    "                ##### POR COMPLETAR  \n",
    "                    \n",
    "        self.element_class = Element\n",
    "                \n",
    "    def get_identity(self):\n",
    "        ##### POR COMPLETAR \n",
    "                    \n",
    "    def get_element(self, x, y):\n",
    "        ##### POR COMPLETAR "
   ]
  },
  {
   "cell_type": "markdown",
   "id": "da11b4d7",
   "metadata": {},
   "source": [
    "En esta definición de `EllipticCurve`, dado un número primo `p`, cada punto sobre la curva es un par ordenado `(x,y)` con `x` e `y` en el conjunto `{0, ..., p-1}`, excepto por el neutro del grupo que un elemento especial que no necesita notación de par ordenado (ver el libro de Jonathan & Lindell para una explicación de esto). Por esto el constructor de la clase `EllipticCurve` recibe dos argumentos para representar un par ordenado, y también considera el caso en que `y` no esté definido porque se está utilizando el elemento neutro."
   ]
  },
  {
   "cell_type": "markdown",
   "id": "f0de20f4",
   "metadata": {},
   "source": [
    "De la misma forma que para la clase `ZpStar`, su implementación del constructor de la clase `EllipticCurve` debe generar excepciones si los parámetros entregados no son correctos (puede suponer que los tipos de estos parámetros siempre van a ser los correctos). Por ejemplo, si `p` no es un número primo, entonces se debe generar una excepción."
   ]
  },
  {
   "cell_type": "markdown",
   "id": "1a0ed4d0",
   "metadata": {},
   "source": [
    "Su definición de la clase `EllipticCurve` va a ser utilizada por la implementación del protocolo ElGamal de la misma forma que para la clase `ZpStar`. Por ejemplo, en el siguiente código se utiliza el protocolo ElGamal para la curva elíptica [P-256](https://neuromancer.sk/std/nist/P-256)."
   ]
  },
  {
   "cell_type": "code",
   "execution_count": null,
   "id": "28a20062",
   "metadata": {},
   "outputs": [],
   "source": [
    "    p = 115792089210356248762697446949407573530086143415290314195533631308867097853951\n",
    "    A = 115792089210356248762697446949407573530086143415290314195533631308867097853948\n",
    "    B = 41058363725152142129326129780047268409114441015993725554835256314039467401291\n",
    "    g_x = 48439561293906451759052585252797914202762949526041747995844080717082404635286\n",
    "    g_y = 36134250956749795798585127919587881956611106672985015071877198253568414405109\n",
    "    q = 115792089210356248762697446949407573529996955224135760342422259061068512044369\n",
    "\n",
    "    group = EllipticCurve(A, B, p)\n",
    "    g = group.get_element(g_x, g_y)\n",
    "\n",
    "    receiver = ElGamalReceiver(group, g, q)\n",
    "\n",
    "    sender = ElGamalSender(receiver.get_public_key())\n",
    "\n",
    "    message_x = 3649244856384847635638847363849074342342433643773\n",
    "    message_y = 36810392828448194526040058211987909976903679270241111391326603075746535787758\n",
    "    plaintext = group.get_element(message_x, message_y)\n",
    "\n",
    "    ciphertext = sender.encrypt(plaintext)\n",
    "\n",
    "    dec = receiver.decrypt(ciphertext)\n",
    "\n",
    "    print(\"\\nPlaintext:      \", str(plaintext))\n",
    "    print(\"Decrypted text: \", str(dec))"
   ]
  },
  {
   "cell_type": "markdown",
   "id": "9639159f",
   "metadata": {},
   "source": [
    "Dadas las clases para enviar y recibir mensajes con ElGamal implementadas en la primer parte de la tarea, el código anterior debe mostrar lo siguiente:\n",
    "\n",
    "Plaintext:       (3649244856384847635638847363849074342342433643773, 368103928284481945260400582119879099769036792702\n",
    "41111391326603075746535787758)  \n",
    "Decrypted text:  (3649244856384847635638847363849074342342433643773, 368103928284481945260400582119879099769036792702\n",
    "41111391326603075746535787758)\n",
    "\n",
    "Nótese que en este caso\n",
    "\n",
    "(3649244856384847635638847363849074342342433643773, 36810392828448194526040058211987909976903679270241111391326603075746535787758)\n",
    "\n",
    "es el mensaje a enviar, el cual es definido como un elemento del grupo a través de la línea `plaintext = group.get_element(message_x, message_y)`"
   ]
  },
  {
   "cell_type": "markdown",
   "id": "5cdb1d54",
   "metadata": {},
   "source": [
    "¡Buena suerte con la tarea!"
   ]
  }
 ],
 "metadata": {
  "kernelspec": {
   "display_name": "Python 3 (ipykernel)",
   "language": "python",
   "name": "python3"
  },
  "language_info": {
   "codemirror_mode": {
    "name": "ipython",
    "version": 3
   },
   "file_extension": ".py",
   "mimetype": "text/x-python",
   "name": "python",
   "nbconvert_exporter": "python",
   "pygments_lexer": "ipython3",
   "version": "3.10.4"
  }
 },
 "nbformat": 4,
 "nbformat_minor": 5
}
