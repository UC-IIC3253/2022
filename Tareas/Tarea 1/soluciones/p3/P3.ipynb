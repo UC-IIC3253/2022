{
 "cells": [
  {
   "cell_type": "markdown",
   "id": "80de1dea-1f62-4c4e-8a71-17ce927155c0",
   "metadata": {},
   "source": [
    "# Solución P3\n",
    "Comenzamos definiendo la clase para representar árboles de Merkle"
   ]
  },
  {
   "cell_type": "code",
   "execution_count": 1,
   "id": "a415daec-2cfd-41e9-b3f8-78a6afd08c99",
   "metadata": {},
   "outputs": [],
   "source": [
    "class MerkleTree:\n",
    "    def __init__(self, strings, hash_func):\n",
    "        self.hash_func = hash_func\n",
    "        \n",
    "        # Don't mess with the original variable\n",
    "        strings = strings.copy()\n",
    "        \n",
    "        # Partimos asegurándonos de tener una cantidad par de strings\n",
    "        if len(strings) % 2:\n",
    "            strings.append(strings[-1])\n",
    "        \n",
    "        # Construiremos el árbol como una lista en la que los hijos del\n",
    "        # nodo en la posición i están en las posiciones 2i + 1 y 2i + 2.\n",
    "        # Para esto necesitamos que la cantidad de hojas sea una potencia de 2.\n",
    "        # Nos aseguramos de esto repitiendo los últimos dos strings tantas veces\n",
    "        # como sea necesario. x & x - 1 == 0 ocurre sólo para potencias de 2.\n",
    "        while len(strings) & (len(strings) - 1) != 0:\n",
    "            strings += [strings[-2], strings[-1]]\n",
    "\n",
    "        self.tree = []\n",
    "        prev_level = [hash_func(x) for x in strings]\n",
    "        \n",
    "        while len(prev_level) > 1:\n",
    "            self.tree = prev_level + self.tree\n",
    "            next_level = []\n",
    "            for i in range(0, len(prev_level), 2):\n",
    "                next_level.append(hash_func(prev_level[i] + prev_level[i + 1]))\n",
    "            prev_level = next_level\n",
    "\n",
    "        self.tree = prev_level + self.tree\n",
    "        \n",
    "    def get_root(self):\n",
    "        # La raíz está en la posición 0\n",
    "        return self.tree[0]\n",
    "    \n",
    "    def get_proof_for(self, item):\n",
    "        try:\n",
    "            next_pos = self.tree.index(self.hash_func(item))\n",
    "        except ValueError:\n",
    "            return None        \n",
    "        \n",
    "        if next_pos < len(self.tree) // 2:\n",
    "            # En este caso el item no era parte de la lista original\n",
    "            return None\n",
    "        \n",
    "        proof = []\n",
    "        while next_pos:\n",
    "            if next_pos % 2:\n",
    "                proof.append((self.tree[next_pos + 1], \"d\"))\n",
    "            else:\n",
    "                proof.append((self.tree[next_pos - 1], \"i\"))\n",
    "            next_pos = (next_pos - 1) // 2\n",
    "        return proof"
   ]
  },
  {
   "cell_type": "markdown",
   "id": "6cb6e12b-be41-487c-813c-87420e33dbca",
   "metadata": {},
   "source": [
    "Ahora escribimos la función para verificar una prueba"
   ]
  },
  {
   "cell_type": "code",
   "execution_count": 2,
   "id": "b79b91b3-cb32-4251-bf92-9bd9713f3af4",
   "metadata": {},
   "outputs": [],
   "source": [
    "def verify(root, item, proof, hash_func):\n",
    "    current_element = hash_func(item)\n",
    "    for sibling, side in proof:\n",
    "        if side == \"d\":\n",
    "            current_element = hash_func(current_element + sibling)\n",
    "        else:\n",
    "            current_element = hash_func(sibling + current_element)\n",
    "    \n",
    "    return current_element == root"
   ]
  },
  {
   "cell_type": "markdown",
   "id": "0ab2d834-5741-4c85-b2ab-f28a33a1a292",
   "metadata": {},
   "source": [
    "# Probando la función\n",
    "Lo que viene a continuación no es parte de la tarea, es sólo una prueba de nuestra solución usando los ejeplos publicados en el [issue de ejemplos](https://github.com/UC-IIC3253/2022/issues/34). Comenzamos definiendo funciones de hash."
   ]
  },
  {
   "cell_type": "code",
   "execution_count": 3,
   "id": "82239cf6-439b-4a54-93a7-351c90611b7e",
   "metadata": {},
   "outputs": [],
   "source": [
    "import hashlib\n",
    "def MD5(string):\n",
    "    return hashlib.md5(string.encode()).hexdigest()\n",
    "\n",
    "def SHA256(string):\n",
    "    return hashlib.sha256(string.encode()).hexdigest()"
   ]
  },
  {
   "cell_type": "markdown",
   "id": "51ddb63e-50d2-4da1-8aa2-a5a1cb6bf5cd",
   "metadata": {},
   "source": [
    "Definimos un primer árbol de Merkle e imprimimos su raíz."
   ]
  },
  {
   "cell_type": "code",
   "execution_count": 4,
   "id": "e6cfb49e-1c9c-4c1e-bdcf-4ad4c31a1b65",
   "metadata": {},
   "outputs": [
    {
     "name": "stdout",
     "output_type": "stream",
     "text": [
      "6cf90496d8de31fb9777408af3aa4c92\n"
     ]
    }
   ],
   "source": [
    "tree = MerkleTree(['asdf', 'wena', '1234', 'hola', 'chao', 'a', 'b', 'c', 'd', 'e'], MD5)\n",
    "print(tree.get_root())"
   ]
  },
  {
   "cell_type": "markdown",
   "id": "53815f60-900c-4226-8254-2165228e92d6",
   "metadata": {},
   "source": [
    "Obtenemos una prueba para el string `1234`"
   ]
  },
  {
   "cell_type": "code",
   "execution_count": 5,
   "id": "11821684-e007-49eb-a503-f28435427d49",
   "metadata": {},
   "outputs": [
    {
     "name": "stdout",
     "output_type": "stream",
     "text": [
      "[('4d186321c1a7f0f354b297e8914ab240', 'd'), ('ad21ab3205307ce250876e1fe2de3f98', 'i'), ('e59133f9f3e8f7421feaa80e8f46598f', 'd'), ('457b539a5afa2646e3b7457e6cac35d7', 'd')]\n"
     ]
    }
   ],
   "source": [
    "proof = tree.get_proof_for('1234')\n",
    "print(proof)"
   ]
  },
  {
   "cell_type": "markdown",
   "id": "a9d15bda-85b0-4e31-a8c3-0cc225e22e17",
   "metadata": {},
   "source": [
    "Verificamos que la prueba sea correcta con la función `verify`"
   ]
  },
  {
   "cell_type": "code",
   "execution_count": 6,
   "id": "aa9e04f0-9889-40ae-ad04-94f80183bd8f",
   "metadata": {},
   "outputs": [
    {
     "data": {
      "text/plain": [
       "True"
      ]
     },
     "execution_count": 6,
     "metadata": {},
     "output_type": "execute_result"
    }
   ],
   "source": [
    "verify(tree.get_root(), '1234', proof, MD5)"
   ]
  },
  {
   "cell_type": "markdown",
   "id": "68c23064-7924-43a7-97a0-6a86fa847fdc",
   "metadata": {},
   "source": [
    "Generamos una prueba incorrecta sacándole la última tupla a la prueba anterior. Verificamos que no sea una prueba correcta."
   ]
  },
  {
   "cell_type": "code",
   "execution_count": 7,
   "id": "c4780a3a-f92c-4bb5-b840-527b78072047",
   "metadata": {},
   "outputs": [
    {
     "data": {
      "text/plain": [
       "False"
      ]
     },
     "execution_count": 7,
     "metadata": {},
     "output_type": "execute_result"
    }
   ],
   "source": [
    "wrong_proof = proof[:-1]\n",
    "verify(tree.get_root(), '1234', wrong_proof, MD5)"
   ]
  },
  {
   "cell_type": "markdown",
   "id": "acec6f6d-4c6c-41f1-8b49-7ff5fffc9890",
   "metadata": {},
   "source": [
    "Hagamos otro árbol de prueba usando SHA-256 y veamos su raíz."
   ]
  },
  {
   "cell_type": "code",
   "execution_count": 8,
   "id": "66de7419-7f89-4397-8240-b045fe0d8640",
   "metadata": {},
   "outputs": [
    {
     "data": {
      "text/plain": [
       "'366b9d1289b2e34c466374f840f1ef6c40ecd352c422a4cfca8bc276293b954c'"
      ]
     },
     "execution_count": 8,
     "metadata": {},
     "output_type": "execute_result"
    }
   ],
   "source": [
    "tree = MerkleTree(['IIC3253', 'es', 'el', 'mejor', 'curso', 'y', 'lo', 'sabes'], SHA256)\n",
    "tree.get_root()"
   ]
  },
  {
   "cell_type": "markdown",
   "id": "23f10c06-496a-4b0a-90f1-6970ce4dd4fc",
   "metadata": {},
   "source": [
    "Obtenemos una prueba para el string `y` y otra para el string `el`"
   ]
  },
  {
   "cell_type": "code",
   "execution_count": 9,
   "id": "4c670274-5b29-4edf-adda-d85b75633611",
   "metadata": {},
   "outputs": [
    {
     "name": "stdout",
     "output_type": "stream",
     "text": [
      "[('a4a670183ad8c9972bce2f85fcefbd0e15118f3310bb6dbd217b847a7578ff17', 'i'), ('2d26e5d60e3a43424820af5a027f0a4f474a3bd1783adbcf2c8af237a1f23acf', 'd'), ('7b138c7c9f60b91765dc2452a6152090a9b31433e0a103529eb6f1c473ca8e47', 'i')]\n",
      "[('a9222478217b151579d5f0b500093fa0e636104b14c42f0fde379ea65ad69159', 'd'), ('837c761ca2be72cddd36e1770bb07e23739a313564035097e1368676795cd5da', 'i'), ('d62c0418530d66d60615f0ec2a2bf4ee840e1538c34333a090a1f0e509d59dc4', 'd')]\n"
     ]
    }
   ],
   "source": [
    "proof = tree.get_proof_for('y')\n",
    "print(proof)\n",
    "proof2 = tree.get_proof_for('el')\n",
    "print(proof2)"
   ]
  },
  {
   "cell_type": "markdown",
   "id": "028da439-14d0-404f-8934-057f84791bd9",
   "metadata": {},
   "source": [
    "Finalmente verificamos las pruebas, y vemos que cada prueba corresponde a su propio string."
   ]
  },
  {
   "cell_type": "code",
   "execution_count": 10,
   "id": "93cbd867-e4c9-4a0c-a8dc-af936c9608b6",
   "metadata": {},
   "outputs": [
    {
     "name": "stdout",
     "output_type": "stream",
     "text": [
      "True\n",
      "False\n",
      "True\n",
      "False\n"
     ]
    }
   ],
   "source": [
    "print(verify(tree.get_root(), 'y', proof, SHA256))\n",
    "print(verify(tree.get_root(), 'y', proof2, SHA256))\n",
    "print(verify(tree.get_root(), 'el', proof2, SHA256))\n",
    "print(verify(tree.get_root(), 'el', proof, SHA256))"
   ]
  },
  {
   "cell_type": "markdown",
   "id": "d2c0aedf-3134-46f5-a53d-519df5ad0612",
   "metadata": {},
   "source": [
    "# Generando los ejemplos\n",
    "A continuación está el código utilizado para generar los ejemplos de corrección.\n",
    "Verificaremos cada una de las funcionalidades usando distintos niveles de complejidad."
   ]
  },
  {
   "cell_type": "code",
   "execution_count": 11,
   "id": "7e51b220-e040-4604-ba02-68fe3eaa62d2",
   "metadata": {},
   "outputs": [],
   "source": [
    "import uuid\n",
    "import json\n",
    "import random\n",
    "\n",
    "# Los elementos que serán utilizados para evaluar\n",
    "trees = []\n",
    "\n",
    "# Usaremos las funciones de hash aleatoriamente\n",
    "hash_funcs = {'sha256': SHA256, 'md5': MD5}"
   ]
  },
  {
   "cell_type": "markdown",
   "id": "b7ed17ae-a005-4ca1-81c2-0a3ba1ade12d",
   "metadata": {},
   "source": [
    "Definiremos árboles con distintas cantidades de hojas:\n",
    " - Potencias de 2\n",
    " - Potencias de 2 menos 1\n",
    " - Potencias de 2 menos 2\n",
    " - Potencias de 2 más 1\n",
    " - Potencias de 2 más 2"
   ]
  },
  {
   "cell_type": "code",
   "execution_count": 12,
   "id": "647658e1-e3af-470f-99ac-36e6c2686bf7",
   "metadata": {},
   "outputs": [],
   "source": [
    "leaf_amounts = [30, 31, 32, 33, 34, 62, 63, 64, 126, 127, 128, 129, 130]\n",
    "\n",
    "for amount in leaf_amounts:\n",
    "    # Generamos las hojas y el árbol\n",
    "    leafs = [str(uuid.uuid4()) for i in range(amount)]\n",
    "    hash_func_name = random.choice(list(hash_funcs.keys()))\n",
    "    hash_func = hash_funcs[hash_func_name]\n",
    "    tree = MerkleTree(leafs, hash_func)\n",
    "    root = tree.get_root()\n",
    "    \n",
    "    # Generaremos pruebas para 3 strings aleatorios que sí corresponden al árbol.\n",
    "    proofs = []\n",
    "    for i in range (3):\n",
    "        leaf = random.choice(leafs)\n",
    "        proof = tree.get_proof_for(leaf)\n",
    "        proofs.append({'node': leaf, 'proof': proof})\n",
    "        assert verify(root, leaf, proof, hash_func)\n",
    "        \n",
    "    # Una prueba para un nodo que no está\n",
    "    proofs.append({\n",
    "        'node': 'A very random string', 'proof': None\n",
    "    })\n",
    "\n",
    "    # Otra para un nodo cuyo hash está en el árbol pero no es parte de las hojas\n",
    "    index = random.randint(0, len(leafs) - 1)\n",
    "    index += index % 2\n",
    "    proofs.append({\n",
    "        'node': tree.tree[index - 1] + tree.tree[index], 'proof': None\n",
    "    })\n",
    "    \n",
    "    # Finalmente un caso bien borde\n",
    "    proofs.append({\n",
    "        'node': tree.tree[-1] + tree.tree[-2], 'proof': None\n",
    "    })\n",
    "    \n",
    "    \n",
    "    # esto será exportado para evaluar que el código genere exactamente la misma\n",
    "    # raíz y las mismas pruebas para cada uno de los ejemplos\n",
    "    trees.append({\n",
    "        'leafs': leafs,\n",
    "        'root': root,\n",
    "        'proofs': proofs,\n",
    "        'hash_func': hash_func_name\n",
    "    })"
   ]
  },
  {
   "cell_type": "markdown",
   "id": "883ddc6c-ac58-43f1-8c7a-27ce4424952c",
   "metadata": {},
   "source": [
    "Exportemos el resultado a un archivo json"
   ]
  },
  {
   "cell_type": "code",
   "execution_count": 13,
   "id": "3de856d0-53a1-4fd7-8b6d-98bcc9a232f2",
   "metadata": {},
   "outputs": [],
   "source": [
    "output = open('grading_trees.json', 'w')\n",
    "output.write(json.dumps({'trees': trees}, indent=2))\n",
    "output.close()"
   ]
  },
  {
   "cell_type": "markdown",
   "id": "40fe42bc-cc19-4421-bfc3-68c3d3645902",
   "metadata": {},
   "source": [
    "# Evaluación\n",
    "A continuación se muestra el código para obtener el puntaje dada una clase `MerkleTree` y una función `verify`"
   ]
  },
  {
   "cell_type": "code",
   "execution_count": 14,
   "id": "d1a2ae15-4de4-4bb7-bf89-0bad35a304b4",
   "metadata": {},
   "outputs": [],
   "source": [
    "def get_points(MerkleTreeClass, verify_func):\n",
    "    examples = json.loads(open('grading_trees.json').read())\n",
    "    \n",
    "    # Variables para contar lo evaluado y cuántas cosas fueron correctas\n",
    "    correct_trees = 0\n",
    "    correct_proofs = 0\n",
    "    correct_verifications = 0\n",
    "    correct_false_verifications = 0\n",
    "    total_proofs = 0\n",
    "    total_verifications = 0\n",
    "    \n",
    "    # Evaluamos contra cada uno de los ejemplos\n",
    "    for example in examples['trees']:\n",
    "        \n",
    "        # Sacamos la función de hash correspondiente\n",
    "        hash_func = hash_funcs[example['hash_func']]\n",
    "        \n",
    "        # Verificamos que se genere el árbol con la raíz correcta\n",
    "        try:\n",
    "            tree = MerkleTreeClass(example['leafs'], hash_func)\n",
    "            root = tree.get_root()\n",
    "            if root == example['root']:\n",
    "                correct_trees += 1\n",
    "        except:\n",
    "            tree = None\n",
    "        \n",
    "        for example_proof in example['proofs']:\n",
    "            total_proofs += 1\n",
    "            \n",
    "            # Verificamos que se genere la prueba correcta. JSON no admite tuplas,\n",
    "            # por lo que usa listas de listas. Debemos convertirlas :(\n",
    "            if tree is not None:\n",
    "                try:\n",
    "                    proof = tree.get_proof_for(example_proof['node'])\n",
    "                    if proof is None and example_proof['proof'] is None:\n",
    "                        correct_proofs += 1\n",
    "                    elif proof == [tuple(i) for i in example_proof['proof']]:\n",
    "                        correct_proofs += 1\n",
    "                except:\n",
    "                    pass\n",
    "                \n",
    "            # Vemos que la verificación se haga correctamente\n",
    "            if example_proof['proof'] is not None:\n",
    "                total_verifications += 1\n",
    "                \n",
    "                try:\n",
    "                    if verify(example['root'], example_proof['node'], example_proof['proof'], hash_func):\n",
    "                        correct_verifications += 1\n",
    "\n",
    "                    if not verify(example['root'], example_proof['node'], example_proof['proof'][1:], hash_func):\n",
    "                        correct_false_verifications += 1\n",
    "                except: pass\n",
    "                    \n",
    "    trees_points = 2 * correct_trees / len(examples[\"trees\"])\n",
    "    proofs_points = 1.5 * correct_proofs / total_proofs\n",
    "    verification_points = 1.5 * correct_verifications / total_verifications\n",
    "    false_verification_points = correct_false_verifications / total_verifications\n",
    "                    \n",
    "    print(f'Árboles correctos: {correct_trees} / {len(examples[\"trees\"])}')\n",
    "    print(f'{trees_points} / 2.0 puntos\\n')\n",
    "    \n",
    "    print(f'Pruebas correctas: {correct_proofs} / {total_proofs}')\n",
    "    print(f'{proofs_points} / 1.5 puntos\\n')\n",
    "    \n",
    "    print(f'Verificaciones correctas: {correct_verifications} / {total_verifications}')\n",
    "    print(f'{verification_points} / 1.5 puntos\\n')\n",
    "    \n",
    "    print(f'Verificaciones falsas correctas: {correct_false_verifications} / {total_verifications}')\n",
    "    print(f'{false_verification_points} / 1.0 puntos\\n')\n",
    "    \n",
    "    total_points = trees_points + proofs_points + verification_points + false_verification_points\n",
    "    print(f'{total_points} / 6.0 puntos')\n",
    "    \n",
    "    return total_points"
   ]
  },
  {
   "cell_type": "markdown",
   "id": "83ba14f3-eb61-4029-a97d-89eafc0a8c46",
   "metadata": {},
   "source": [
    "Probamos la función con la clase y función programadas:"
   ]
  },
  {
   "cell_type": "code",
   "execution_count": 15,
   "id": "f9a1c5bd-0382-4755-8844-19a640ce6634",
   "metadata": {},
   "outputs": [
    {
     "name": "stdout",
     "output_type": "stream",
     "text": [
      "Árboles correctos: 13 / 13\n",
      "2.0 / 2.0 puntos\n",
      "\n",
      "Pruebas correctas: 78 / 78\n",
      "1.5 / 1.5 puntos\n",
      "\n",
      "Verificaciones correctas: 39 / 39\n",
      "1.5 / 1.5 puntos\n",
      "\n",
      "Verificaciones falsas correctas: 39 / 39\n",
      "1.0 / 1.0 puntos\n",
      "\n",
      "6.0 / 6.0 puntos\n",
      "\n",
      "Nos sacamos un 7.0!\n"
     ]
    }
   ],
   "source": [
    "points = get_points(MerkleTree, verify)\n",
    "grade = 1 + points\n",
    "print(f'\\nNos sacamos un {grade}!')"
   ]
  }
 ],
 "metadata": {
  "kernelspec": {
   "display_name": "Python 3 (ipykernel)",
   "language": "python",
   "name": "python3"
  },
  "language_info": {
   "codemirror_mode": {
    "name": "ipython",
    "version": 3
   },
   "file_extension": ".py",
   "mimetype": "text/x-python",
   "name": "python",
   "nbconvert_exporter": "python",
   "pygments_lexer": "ipython3",
   "version": "3.10.4"
  }
 },
 "nbformat": 4,
 "nbformat_minor": 5
}
