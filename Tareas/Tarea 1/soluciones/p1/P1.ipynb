{
 "cells": [
  {
   "cell_type": "markdown",
   "id": "bc043da7-9394-4ae2-a909-5da1dcb6a982",
   "metadata": {},
   "source": [
    "# Pregunta 1\n",
    "\n",
    "Comenzamos definiendo una clase simple para encriptar y decriptar con una llave."
   ]
  },
  {
   "cell_type": "code",
   "execution_count": 1,
   "id": "7fc96714-75b4-4803-9cf2-ea4c1e644e93",
   "metadata": {},
   "outputs": [],
   "source": [
    "class RP:\n",
    "\n",
    "    def __init__(self, alphabet, key):\n",
    "        self.alphabet = alphabet\n",
    "        self.key = key\n",
    "\n",
    "    def enc(self, message):\n",
    "        cipher = \"\"\n",
    "        for i in range(len(message)):\n",
    "            index = self.alphabet.index(message[i]) + self.alphabet.index(self.key[i % len(self.key)])\n",
    "            cipher += self.alphabet[index % len(self.alphabet)]\n",
    "            \n",
    "        return cipher\n",
    "\n",
    "    def dec(self, cipher):\n",
    "        plaintext = \"\"\n",
    "        for i in range(len(cipher)):\n",
    "            index = self.alphabet.index(cipher[i]) - self.alphabet.index(self.key[i % len(self.key)])\n",
    "            plaintext += self.alphabet[index % len(self.alphabet)]\n",
    "            \n",
    "        return plaintext"
   ]
  },
  {
   "cell_type": "markdown",
   "id": "7a7004df-f441-4f66-b29e-e3dda0db0014",
   "metadata": {},
   "source": [
    "Ahora escribimos una función que, dado un conjunto de caracteres C, una función de distancia y una frecuencia, retorna cuál sería el mejor caracter para decriptar todos los caracteres de C de acuerdo a la función de distancia."
   ]
  },
  {
   "cell_type": "code",
   "execution_count": 2,
   "id": "8684d10d-634c-4032-bd9e-1ae7e491471d",
   "metadata": {},
   "outputs": [],
   "source": [
    "def best_candidate(alphabet, chars, distance, frequencies):\n",
    "    scheme = RP(alphabet, alphabet[0])\n",
    "    min_distance = distance(scheme.dec(chars), frequencies)\n",
    "    best_candidate = alphabet[0]\n",
    "\n",
    "    for candidate in alphabet[1:]:\n",
    "        scheme = RP(alphabet, candidate)\n",
    "        candidate_distance = distance(scheme.dec(chars), frequencies)\n",
    "        if candidate_distance < min_distance:\n",
    "            min_distance = candidate_distance\n",
    "            best_candidate = candidate\n",
    "    return best_candidate"
   ]
  },
  {
   "cell_type": "markdown",
   "id": "7da88e9c-fdf5-4d2e-b957-9e7415cc2a4b",
   "metadata": {},
   "source": [
    "Con lo anterior escribimos una función que, dado un largo de llave, retorna la mejor llave de acuerdo a una función de distancia."
   ]
  },
  {
   "cell_type": "code",
   "execution_count": 3,
   "id": "91954b23-9fc9-4c31-b358-babcc1a0e1e2",
   "metadata": {},
   "outputs": [],
   "source": [
    "def get_candidate_key(alphabet, ciphertext, distance, frequencies, key_len):\n",
    "    key = \"\"\n",
    "    for i in range(key_len):\n",
    "        chars_to_decrypt = ciphertext[i::key_len]\n",
    "        key +=  best_candidate(alphabet, chars_to_decrypt, distance, frequencies)\n",
    "    return key"
   ]
  },
  {
   "cell_type": "markdown",
   "id": "35c5f0d5-1401-4b20-9742-d403a9897082",
   "metadata": {},
   "source": [
    "Finalmente escribimos la función que se pide en el enunciado."
   ]
  },
  {
   "cell_type": "code",
   "execution_count": 4,
   "id": "0770a797-7aee-4cd6-aed0-3a3ab80adfc6",
   "metadata": {},
   "outputs": [],
   "source": [
    "def break_rp(ciphertext, frequencies, distance):\n",
    "    alphabet = sorted(list(frequencies.keys()))\n",
    "    best_key = get_candidate_key(alphabet, ciphertext, distance, frequencies, 1)\n",
    "    best_distance = distance(best_key, frequencies)\n",
    "    \n",
    "    for key_len in range(1, len(ciphertext) // 50):\n",
    "        candidate_key = get_candidate_key(alphabet, ciphertext, distance, frequencies, key_len)\n",
    "        scheme = RP(alphabet, candidate_key)\n",
    "        candidate_distance = distance(scheme.dec(ciphertext), frequencies)\n",
    "        if candidate_distance < best_distance:\n",
    "            best_distance = candidate_distance\n",
    "            best_key = candidate_key\n",
    "        \n",
    "    return best_key"
   ]
  },
  {
   "cell_type": "markdown",
   "id": "c854e00b-86ea-49a1-a6fc-61cddd01bf36",
   "metadata": {},
   "source": [
    "## Probando la función\n",
    "\n",
    "Lo que viene a continuación no es parte de la tarea, es sólo una prueba de nuestra solución. Comenzamos definiendo funciones de distancia:"
   ]
  },
  {
   "cell_type": "code",
   "execution_count": 5,
   "id": "a3bf01e3-8424-450e-8d64-0c1e1011595f",
   "metadata": {},
   "outputs": [],
   "source": [
    "def abs_distance(string, frequencies):\n",
    "    return sum([\n",
    "        abs(frequencies[c] - string.count(c) / len(string))\n",
    "        for c in frequencies\n",
    "    ])\n",
    "\n",
    "def quadratic_distance(string, frequencies):\n",
    "    return sum([\n",
    "        abs(frequencies[c] - string.count(c) / len(string)) ** 2\n",
    "        for c in frequencies\n",
    "    ])\n",
    "\n",
    "def squared_distance(string, frequencies):\n",
    "    return sum([\n",
    "        abs(frequencies[c] - string.count(c) / len(string)) ** (1 / 2)\n",
    "        for c in frequencies\n",
    "    ])"
   ]
  },
  {
   "cell_type": "markdown",
   "id": "513122a5-2d9d-42c0-a7d3-c4170b5560d0",
   "metadata": {},
   "source": [
    "Obtenemos uno de los ejemplos utilizados para evaluar la tarea y vemos qué contiene:"
   ]
  },
  {
   "cell_type": "code",
   "execution_count": 6,
   "id": "b99fabb6-28bf-4032-8158-9120831ed279",
   "metadata": {},
   "outputs": [],
   "source": [
    "import json\n",
    "examples = json.loads(open('examples.json').read())"
   ]
  },
  {
   "cell_type": "code",
   "execution_count": 7,
   "id": "95be8710-aed7-4438-8a64-0372c2684ad0",
   "metadata": {},
   "outputs": [
    {
     "name": "stdout",
     "output_type": "stream",
     "text": [
      "{\n",
      "    \"distance\": \"squared\",\n",
      "    \"key\": \"\\n\\u00caK\\u00c2CROM3YEQ\\u00c1-164!D!\\u00d3\",\n",
      "    \"found_key\": \"\\n\\u00caK\\u00c2CROM3YEQ\\u00c1-164!D!\\u00d3\",\n",
      "    \"found_distance\": 3.137625466025492\n",
      "}\n"
     ]
    }
   ],
   "source": [
    "example = examples[7]\n",
    "ciphertext = example.pop('ciphertext')\n",
    "frequencies = example.pop('frequencies')\n",
    "print(json.dumps(example, indent=4))"
   ]
  },
  {
   "cell_type": "markdown",
   "id": "faf33d50-57b0-432e-bf87-1cb1332e78c7",
   "metadata": {},
   "source": [
    "Vemos que usa squared_distance y que el algoritmo base debería encontrar la llave correcta. Probemos."
   ]
  },
  {
   "cell_type": "code",
   "execution_count": 8,
   "id": "5fb7ddd8-e96c-4e52-ae8a-ad61330040d7",
   "metadata": {},
   "outputs": [
    {
     "name": "stdout",
     "output_type": "stream",
     "text": [
      "Found same key? \n",
      "\n",
      "True\n",
      "\n"
     ]
    }
   ],
   "source": [
    "best_key = break_rp(ciphertext, frequencies, squared_distance)\n",
    "print(f'Found same key? \\n\\n{best_key == example[\"key\"]}\\n')"
   ]
  },
  {
   "cell_type": "markdown",
   "id": "2a6d7ebf-a0db-4233-a4ca-67c851e641e7",
   "metadata": {},
   "source": [
    "Success! Veamos ahora qué decía el texto:"
   ]
  },
  {
   "cell_type": "code",
   "execution_count": 9,
   "id": "fe81a869-5edb-42e9-98f7-d0ff501b5c4e",
   "metadata": {},
   "outputs": [
    {
     "data": {
      "text/plain": [
       "'CONFESSO QUE HÁ VÁRIAS PARTES DESTA CONSTITUIÇÃO QUE NÃO APROVO NO MOMENTO, MAS NÃO TENHO CERTEZA DE QUE NUNCA AS APROVAREI: POR TER VIVIDO MUITO, EXPERIMENTEI MUITOS CASOS DE SER OBRIGADO POR MELHORES INFORMAÇÕES OU CONSIDERAÇÃO MAIS COMPLETA, MUDAR DE OPINIÃO MESMO SOBRE ASSUNTOS IMPORTANTES, O QUE ANTES EU ACHAVA CERTO, MAS DESCOBRI QUE ERA DIFERENTE. É, PORTANTO, QUE QUANTO MAIS VELHO FICO, MAIS APTO ESTOU A DUVIDAR DE MEU PRÓPRIO JULGAMENTO E A PRESTAR MAIS RESPEITO AO JULGAMENTO DOS OUTROS. A MAIORIA DOS HOMENS, DE FATO, ASSIM COMO A MAIORIA DAS SEITAS NA RELIGIÃO, PENSAM QUE ESTÃO DE POSSE DE TODA A VERDADE, E ONDE QUER QUE OUTROS DIFIRAM DELES, ISSO É UM ERRO. STEELE, UM PROTESTANTE EM UMA DEDICATÓRIA, DIZ AO PAPA QUE A ÚNICA DIFERENÇA ENTRE NOSSAS IGREJAS EM SUAS OPINIÕES SOBRE A CERTEZA DE SUAS DOUTRINAS É QUE A IGREJA DE ROMA É INFALÍVEL E A IGREJA DA INGLATERRA NUNCA ESTÁ ERRADA. MAS, EMBORA MUITAS PESSOAS PRIVADAS CONSIDEREM SUA PRÓPRIA INFALIBILIDADE QUASE TÃO BEM QUANTO A DE SUA SEITA, POUCOS A EXPRESSAM TÃO NATURALMENTE QUANTO UMA CERTA SENHORA FRANCESA, QUE EM UMA DISPUTA COM SUA IRMÃ, DISSE: \"EU NÃO SEI COMO ISSO ACONTECE, IRMÃ, MAS NÃO ENCONTRO NINGUÉM ALÉM DE MIM MESMA, ISSO ESTÁ SEMPRE CERTO - IL N\\'Y A QUE MOI QUI A TOUJOURS RAISON\".\\n\\nNESSES SENTIMENTOS, SENHOR, CONCORDO COM ESTA CONSTITUIÇÃO COM TODAS AS SUAS FALHAS, SE SÃO ASSIM; PORQUE EU ACHO QUE UM GOVERNO GERAL É NECESSÁRIO PARA NÓS, E NÃO HÁ FORMA DE GOVERNO QUE NÃO SEJA UMA BÊNÇÃO PARA O POVO SE BEM ADMINISTRADO, E ACREDITO AINDA QUE ISSO PROVAVELMENTE SERÁ BEM ADMINISTRADO POR UM CURSO DE ANOS, E SÓ PODE TERMINAR NO DESPOTISMO, COMO OUTRAS FORMAS O FIZERAM ANTES DELE, QUANDO O POVO SE TORNAR TÃO CORROMPIDO A PONTO DE PRECISAR DE GOVERNO DESPÓTICO, SENDO INCAPAZ DE QUALQUER OUTRO. DUVIDO TAMBÉM QUE QUALQUER OUTRA CONVENÇÃO QUE POSSAMOS OBTER POSSA FAZER UMA CONSTITUIÇÃO MELHOR. POIS QUANDO VOCÊ REÚNE VÁRIOS HOMENS PARA TER A VANTAGEM DE SUA SABEDORIA CONJUNTA, VOCÊ INEVITAVELMENTE SE REÚNE COM ESSES HOMENS, TODOS OS SEUS PRECONCEITOS, SUAS PAIXÕES, SEUS ERROS DE OPINIÃO, SEUS INTERESSES LOCAIS E SEUS PONTOS DE VISTA EGOÍSTAS. DE TAL MONTAGEM PODE-SE ESPERAR UMA PRODUÇÃO PERFEITA? PORTANTO, SURPREENDE-ME, SENHOR, ENCONTRAR ESTE SISTEMA TÃO PRÓXIMO DA PERFEIÇÃO COMO ESTÁ; E ACHO QUE SURPREENDERÁ NOSSOS INIMIGOS, QUE ESPERAM COM CONFIANÇA OUVIR QUE NOSSOS CONSELHOS SÃO CONFUNDIDOS COMO OS DOS CONSTRUTORES DE BABEL; E QUE NOSSOS ESTADOS ESTÃO À BEIRA DA SEPARAÇÃO, APENAS PARA SE ENCONTRAREM NO FUTURO COM O PROPÓSITO DE CORTAR A GARGANTA UNS DOS OUTROS. ASSIM, CONCORDO, SENHOR, COM ESTA CONSTITUIÇÃO PORQUE NÃO ESPERO NADA MELHOR E PORQUE NÃO TENHO CERTEZA DE QUE NÃO SEJA A MELHOR. AS OPINIÕES QUE TIVE DE SEUS ERROS, EU SACRIFICO AO BEM PÚBLICO. NUNCA SUSSURREI UMA SÍLABA DELES NO EXTERIOR. DENTRO DESTAS PAREDES ELES NASCERAM, E AQUI ELES MORRERÃO. SE CADA UM DE NÓS, AO RETORNAR AOS NOSSOS CONSTITUINTES, RELATASSE AS OBJEÇÕES QUE FEZ A ELA E SE ESFORÇASSE PARA GANHAR PARTIDÁRIOS EM APOIO A ELAS, PODERÍAMOS IMPEDIR QUE ELA FOSSE GERALMENTE RECEBIDA E, ASSIM, PERDER TODOS OS EFEITOS SALUTARES E GRANDES VANTAGENS RESULTANTES. NATURALMENTE A NOSSO FAVOR ENTRE AS NAÇÕES ESTRANGEIRAS, BEM COMO ENTRE NÓS, A PARTIR DE NOSSA UNANIMIDADE REAL OU APARENTE. GRANDE PARTE DA FORÇA E EFICIÊNCIA DE QUALQUER GOVERNO EM OBTER E GARANTIR A FELICIDADE DO POVO DEPENDE, NA OPINIÃO, DA OPINIÃO GERAL DA BONDADE DO GOVERNO, BEM COMO DA SABEDORIA E INTEGRIDADE DE SEUS GOVERNADORES. ESPERO, PORTANTO, QUE PARA NOSSO PRÓPRIO BEM COMO PARTE DO POVO, E PARA O BEM DA POSTERIDADE, AJAMOS DE CORAÇÃO E UNANIMIDADE AO RECOMENDAR ESTA CONSTITUIÇÃO (SE APROVADA PELO CONGRESSO E CONFIRMADA PELAS CONVENÇÕES) ONDE QUER QUE NOSSA INFLUÊNCIA SE ESTENDA, E VOLTAR NOSSOS PENSAMENTOS E ESFORÇOS FUTUROS PARA OS MEIOS DE TÊ-LO BEM ADMINISTRADO.\\n\\nEM GERAL, SENHOR, NÃO POSSO DEIXAR DE EXPRESSAR O DESEJO DE QUE TODOS OS MEMBROS DA CONVENÇÃO QUE AINDA POSSAM TER OBJEÇÕES A ELA, NESTA OCASIÃO DUVIDEM UM POUCO DE SUA PRÓPRIA INFALIBILIDADE, E PARA TORNAR MANIFESTA NOSSA UNANIMIDADE, COLOQUEM SEU NOME A ESTE INSTRUMENTO.\\n'"
      ]
     },
     "execution_count": 9,
     "metadata": {},
     "output_type": "execute_result"
    }
   ],
   "source": [
    "alphabet = sorted(list(frequencies.keys()))\n",
    "schema = RP(alphabet, best_key)\n",
    "schema.dec(ciphertext)"
   ]
  },
  {
   "cell_type": "markdown",
   "id": "f5ae792e-4035-4fcf-9a68-1c10352da8b0",
   "metadata": {},
   "source": [
    "Discurso random traducido al portugués :) Vamos con otro ejemplo."
   ]
  },
  {
   "cell_type": "code",
   "execution_count": 10,
   "id": "c8870c71-189c-413c-adc8-5d4c409b1ebf",
   "metadata": {},
   "outputs": [
    {
     "name": "stdout",
     "output_type": "stream",
     "text": [
      "{\n",
      "    \"distance\": \"quadratic\",\n",
      "    \"key\": \"X(,\\u00cd!\\nARL\\u00bf0\\u00a1 8TPU-TZ\\\"51C\\u00dc\\u00dc\\u00daU\",\n",
      "    \"found_key\": \"X(,\\u00cd!Z\\\"RLC0\\u00a1 7XPU\\u00cd!\\nA41\\u00bf\\u00dc\\u00dc\\u00da7T(U\\u00cd!ZARL\\u00bf\\u00dc\\u00a1\\u00da7\",\n",
      "    \"found_distance\": 0.021821567299485763\n",
      "}\n"
     ]
    }
   ],
   "source": [
    "example = examples[5]\n",
    "ciphertext = example.pop('ciphertext')\n",
    "frequencies = example.pop('frequencies')\n",
    "print(json.dumps(example, indent=4))"
   ]
  },
  {
   "cell_type": "markdown",
   "id": "50374ed4-939c-4831-b653-eec4585e180a",
   "metadata": {},
   "source": [
    "Vemos que usa quadratic_distance y que el algoritmo base no encuentra la llave correcta. Veamos."
   ]
  },
  {
   "cell_type": "code",
   "execution_count": 11,
   "id": "5bee1f99-e23e-4410-8170-4c83b34f855d",
   "metadata": {},
   "outputs": [
    {
     "name": "stdout",
     "output_type": "stream",
     "text": [
      "Found same key? \n",
      "\n",
      "False\n",
      "\n"
     ]
    }
   ],
   "source": [
    "best_key = break_rp(ciphertext, frequencies, quadratic_distance)\n",
    "print(f'Found same key? \\n\\n{best_key == example[\"key\"]}\\n')"
   ]
  },
  {
   "cell_type": "markdown",
   "id": "5a933236-abf1-4763-a3b4-9ba54b15ead0",
   "metadata": {},
   "source": [
    "Mal ahí. La encontrará con otra distancia?"
   ]
  },
  {
   "cell_type": "code",
   "execution_count": 12,
   "id": "4b37086a-b201-4864-aa52-a46990157d99",
   "metadata": {},
   "outputs": [
    {
     "name": "stdout",
     "output_type": "stream",
     "text": [
      "Found same key? \n",
      "\n",
      "True\n",
      "\n"
     ]
    }
   ],
   "source": [
    "best_key = break_rp(ciphertext, frequencies, abs_distance)\n",
    "print(f'Found same key? \\n\\n{best_key == example[\"key\"]}\\n')"
   ]
  },
  {
   "cell_type": "markdown",
   "id": "6e3333f2-ae4f-4a51-8630-34d292185bf1",
   "metadata": {},
   "source": [
    "Success! Veamos qué decía el texto y estamos..."
   ]
  },
  {
   "cell_type": "code",
   "execution_count": 14,
   "id": "7f4915c3-751b-41bc-9cdd-33126dd5315a",
   "metadata": {},
   "outputs": [
    {
     "data": {
      "text/plain": [
       "'ESTOY ORGULLOSO DE REUNIRME CON USTEDES HOY DÍA EN ESTA QUE SERÁ, EN LA HISTORIA, LA MÁS GRANDE DEMOSTRACIÓN PARA LA LIBERTAD EN LA HISTORIA DE NUESTRO PAÍS. HACE CIEN AÑOS, UN GRAN AMERICANO, EN CUYA SIMBÓLICA SOMBRA ESTAMOS HOY PARADOS, FIRMÓ LA PROCLAMACIÓN DE LA EMANCIPACIÓN. ESTE TRASCENDENTAL DECRETO VINO COMO UN GRAN RAYO DE LUZ DE ESPERANZA PARA MILLONES DE ESCLAVOS NEGROS, CHAMUSCADOS EN LAS LLAMAS DE UNA MARCHITA INJUSTICIA. VINO COMO UN LINDO AMANECER AL FINAL DE UNA LARGA NOCHE DE CAUTIVERIO.\\n\\nPERO CIEN AÑOS DESPUÉS, EL NEGRO AÚN NO ES LIBRE; CIEN AÑOS DESPUÉS, LA VIDA DEL NEGRO AÚN ES TRISTEMENTE LISIADA POR LAS ESPOSAS DE LA SEGREGACIÓN Y LAS CADENAS DE LA DISCRIMINACIÓN; CIEN AÑOS DESPUÉS, EL NEGRO VIVE EN UNA ISLA SOLITARIA EN MEDIO DE UN INMENSO OCÉANO DE PROSPERIDAD MATERIAL; CIEN AÑOS DESPUÉS, EL NEGRO TODAVÍA LANGUIDECE EN LAS ESQUINAS DE LA SOCIEDAD AMERICANA Y SE ENCUENTRA DESTERRADO EN SU PROPIA TIERRA.\\n\\nENTONCES HEMOS VENIDO HOY DÍA AQUÍ A DRAMATIZAR UNA CONDICIÓN VERGONZOSA. EN UN SENTIDO HEMOS VENIDO A LA CAPITAL DE NUESTRO PAÍS A COBRAR UN CHEQUE. CUANDO LOS ARQUITECTOS DE NUESTRA REPÚBLICA ESCRIBIERON LAS MAGNÍFICAS PALABRAS DE LA CONSTITUCIÓN Y LA DECLARACIÓN DE INDEPENDENCIA, ELLOS FIRMABAN UN PAGARÉ DEL CUAL CADA AMERICANO SERÍA EL HEREDERO. ESTE PAGARÉ ERA LA PROMESA QUE TODO HOMBRE, SÍ, EL HOMBRE NEGRO Y EL HOMBRE BLANCO, TENDRÍAN GARANTIZADOS LOS DERECHOS INALIENABLES DE VIDA, LIBERTAD, Y  BÚSQUEDA DE LA FELICIDAD.\\n\\nES OBVIO HOY DÍA QUE AMÉRICA HA INCUMPLIDO ESTE PAGARÉ EN LO QUE CONCIERNE A SUS CIUDADANOS DE COLOR. EN LUGAR DE HONRAR ESTA SAGRADA OBLIGACIÓN, AMÉRICA HA DADO A LA GENTE NEGRA UN CHEQUE MALO; UN CHEQUE QUE HA REGRESADO CON EL SELLO \"FONDOS INSUFICIENTES.\" PERO REHUSAMOS CREER QUE EL BANCO DE JUSTICIA ESTÁ QUEBRADO. REHUSAMOS CREER QUE NO HAYA SUFICIENTES FONDOS EN LAS GRANDES BÓVEDAS DE OPORTUNIDAD DE ESTE PAÍS. Y ENTONCES HEMOS VENIDO A COBRAR ESTE CHEQUE, EL CHEQUE QUE NOS DARÁ SOBRE MANERA LA RIQUEZA DE LIBERTAD Y LA SEGURIDAD DE JUSTICIA.\\n\\nTAMBIÉN HEMOS VENIDO A ESTE SAGRADO LUGAR PARA RECORDAR A AMÉRICA LA URGENCIA IMPETUOSA DE AHORA. ESTE NO ES EL MOMENTO DE TENER EL LUJO DE ENFRIARSE O TOMAR TRANQUILIZANTES DE GRADUALISMO. AHORA ES EL MOMENTO DE HACER REALIDAD LAS PROMESAS DE DEMOCRACIA; AHORA ES EL MOMENTO DE SALIR DEL OSCURO Y DESOLADO VALLE DE LA SEGREGACIÓN AL CAMINO ALUMBRADO DE LA JUSTICIA RACIAL; AHORA ES EL MOMENTO DE SACAR NUESTRO PAÍS DE LAS ARENAS MOVEDIZAS DE LA INJUSTICIA RACIAL, A LA PIEDRA SÓLIDA DE LA HERMANDAD; AHORA ES EL MOMENTO DE HACER DE LA JUSTICIA UNA REALIDAD PARA TODOS LOS HIJOS DE DIOS. SERÍA FATAL PARA LA NACIÓN PASAR POR ALTO LA URGENCIA DEL MOMENTO. ESTE VERANO ARDIENTE POR EL LEGÍTIMO DESCONTENTO DEL NEGRO, NO PASARÁ HASTA QUE NO HAYA UN OTOÑO VIGOROSO DE LIBERTAD E IGUALDAD.'"
      ]
     },
     "execution_count": 14,
     "metadata": {},
     "output_type": "execute_result"
    }
   ],
   "source": [
    "alphabet = sorted(list(frequencies.keys()))\n",
    "schema = RP(alphabet, best_key)\n",
    "schema.dec(ciphertext)"
   ]
  },
  {
   "cell_type": "markdown",
   "id": "de7ae0b4-5567-46dc-8887-4ddef3ff52d3",
   "metadata": {},
   "source": [
    "# Generando los ejemplos\n",
    "\n",
    "A continuación está el código utilizado para generar los ejemplos de corrección:"
   ]
  },
  {
   "cell_type": "code",
   "execution_count": 468,
   "id": "98980c70-1919-40eb-bd9f-0242066ac6a4",
   "metadata": {},
   "outputs": [],
   "source": [
    "import random\n",
    "def generate_eval_json(frequencies, text, distance, description):\n",
    "    alphabet = sorted(list(frequencies.keys()))\n",
    "    key_len = random.randint(5, len(text) // 50)\n",
    "    key = \"\".join([random.choice(alphabet) for i in range(key_len)])\n",
    "    scheme = RP(alphabet, key)\n",
    "    ciphertext = scheme.enc(text)\n",
    "    found_key = break_rp(ciphertext, frequencies, distance)\n",
    "    found_scheme = RP(alphabet, found_key)\n",
    "    return {\n",
    "        'distance': description,\n",
    "        'frequencies': frequencies,\n",
    "        'key': key,\n",
    "        'found_key': found_key,\n",
    "        'ciphertext': scheme.enc(text),\n",
    "        'found_distance': distance(found_scheme.dec(ciphertext), frequencies)\n",
    "    }"
   ]
  },
  {
   "cell_type": "code",
   "execution_count": 469,
   "id": "3e3b5dd0-b67d-4df0-a91b-1de75c9dc8ff",
   "metadata": {},
   "outputs": [],
   "source": [
    "frequencies = json.loads(open('english.json').read())\n",
    "alphabet = sorted(list(frequencies.keys()))\n",
    "text = open('text1.txt').read()\n",
    "examples = [generate_eval_json(frequencies, text, abs_distance, 'abs')]\n",
    "examples.append(generate_eval_json(frequencies, text, squared_distance, 'squared'))\n",
    "examples.append(generate_eval_json(frequencies, text, quadratic_distance, 'quadratic'))"
   ]
  },
  {
   "cell_type": "code",
   "execution_count": 470,
   "id": "2be476a5-0c6a-47f3-99d4-df4461b7a72d",
   "metadata": {},
   "outputs": [],
   "source": [
    "frequencies = json.loads(open('spanish.json').read())\n",
    "alphabet = sorted(list(frequencies.keys()))\n",
    "text = open('text2.txt').read()\n",
    "examples.append(generate_eval_json(frequencies, text, abs_distance, 'abs'))\n",
    "examples.append(generate_eval_json(frequencies, text, squared_distance, 'squared'))\n",
    "examples.append(generate_eval_json(frequencies, text, quadratic_distance, 'quadratic'))"
   ]
  },
  {
   "cell_type": "code",
   "execution_count": 471,
   "id": "a847940a-f1b1-47ae-85d9-5215af381f96",
   "metadata": {},
   "outputs": [],
   "source": [
    "frequencies = json.loads(open('portuguese.json').read())\n",
    "alphabet = sorted(list(frequencies.keys()))\n",
    "text = open('text3.txt').read()\n",
    "examples.append(generate_eval_json(frequencies, text, abs_distance, 'abs'))\n",
    "examples.append(generate_eval_json(frequencies, text, squared_distance, 'squared'))\n",
    "examples.append(generate_eval_json(frequencies, text, quadratic_distance, 'quadratic'))"
   ]
  },
  {
   "cell_type": "code",
   "execution_count": 472,
   "id": "2689c8e7-6451-4ea4-bb2b-72331ffe8557",
   "metadata": {},
   "outputs": [],
   "source": [
    "random_text = open('random.txt').read()\n",
    "alphabet = sorted(list(set(random_text)))\n",
    "frequencies = {a: random.randint(1, 10) for a in alphabet}\n",
    "total = sum(frequencies.values())\n",
    "frequencies = {a: frequencies[a] / total for a in frequencies}\n",
    "examples.append(generate_eval_json(frequencies, random_text, quadratic_distance, 'quadratic'))\n",
    "examples.append(generate_eval_json(frequencies, random_text, abs_distance, 'abs'))\n",
    "examples.append(generate_eval_json(frequencies, random_text, squared_distance, 'squared'))"
   ]
  },
  {
   "cell_type": "code",
   "execution_count": 473,
   "id": "92a219eb-98ff-437a-ac44-9a8a66b7e9a8",
   "metadata": {},
   "outputs": [],
   "source": [
    "output = open('examples.json', 'w')\n",
    "output.write(json.dumps(examples, indent=4))\n",
    "output.close()"
   ]
  }
 ],
 "metadata": {
  "kernelspec": {
   "display_name": "Python 3 (ipykernel)",
   "language": "python",
   "name": "python3"
  },
  "language_info": {
   "codemirror_mode": {
    "name": "ipython",
    "version": 3
   },
   "file_extension": ".py",
   "mimetype": "text/x-python",
   "name": "python",
   "nbconvert_exporter": "python",
   "pygments_lexer": "ipython3",
   "version": "3.10.4"
  }
 },
 "nbformat": 4,
 "nbformat_minor": 5
}
